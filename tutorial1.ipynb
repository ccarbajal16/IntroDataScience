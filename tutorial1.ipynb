{
 "cells": [
  {
   "cell_type": "markdown",
   "source": [
    "## Introducción a la Ciencia de Datos con Julia\r\n",
    "\r\n",
    "### Primeros pasos:\r\n",
    "- Importación de los datos"
   ],
   "metadata": {}
  },
  {
   "cell_type": "code",
   "execution_count": 4,
   "source": [
    "# TODO: Activamos nuestros paquetes \r\n",
    "using CSV, DataFrames, DataFramesMeta, ArchGDAL, PrettyTables"
   ],
   "outputs": [],
   "metadata": {}
  },
  {
   "cell_type": "code",
   "execution_count": 25,
   "source": [
    "# TODO: Importación y creación de un DataFrame desde un archivo CSV\r\n",
    "\r\n",
    "df_pop1 = DataFrame(CSV.File(\"data/table_pop_huanuco.csv\"))\r\n",
    "\r\n",
    "first(df_pop1,10)"
   ],
   "outputs": [
    {
     "output_type": "execute_result",
     "data": {
      "text/plain": [
       "\u001b[1m10×5 DataFrame\u001b[0m\n",
       "\u001b[1m Row \u001b[0m│\u001b[1m fid   \u001b[0m\u001b[1m population \u001b[0m\u001b[1m full_id  \u001b[0m\u001b[1m name    \u001b[0m\u001b[1m pe_ubigeo \u001b[0m\n",
       "\u001b[1m     \u001b[0m│\u001b[90m Int64 \u001b[0m\u001b[90m Int64      \u001b[0m\u001b[90m String?  \u001b[0m\u001b[90m String? \u001b[0m\u001b[90m Int64?    \u001b[0m\n",
       "─────┼─────────────────────────────────────────────────\n",
       "   1 │     2         196  r1954518  Cholón      100702\n",
       "   2 │     3         344  r1954518  Cholón      100702\n",
       "   3 │     7          76  r1954518  Cholón      100702\n",
       "   4 │    10          44  r1954518  Cholón      100702\n",
       "   5 │    11         120  r1954518  Cholón      100702\n",
       "   6 │    12          32  r1954518  Cholón      100702\n",
       "   7 │    13          44  r1954518  Cholón      100702\n",
       "   8 │    14          66  r1954518  Cholón      100702\n",
       "   9 │    15         213  r1954518  Cholón      100702\n",
       "  10 │    20          27  r1954518  Cholón      100702"
      ],
      "text/latex": [
       "\\begin{tabular}{r|ccccc}\n",
       "\t& fid & population & full\\_id & name & pe\\_ubigeo\\\\\n",
       "\t\\hline\n",
       "\t& Int64 & Int64 & String? & String? & Int64?\\\\\n",
       "\t\\hline\n",
       "\t1 & 2 & 196 & r1954518 & Cholón & 100702 \\\\\n",
       "\t2 & 3 & 344 & r1954518 & Cholón & 100702 \\\\\n",
       "\t3 & 7 & 76 & r1954518 & Cholón & 100702 \\\\\n",
       "\t4 & 10 & 44 & r1954518 & Cholón & 100702 \\\\\n",
       "\t5 & 11 & 120 & r1954518 & Cholón & 100702 \\\\\n",
       "\t6 & 12 & 32 & r1954518 & Cholón & 100702 \\\\\n",
       "\t7 & 13 & 44 & r1954518 & Cholón & 100702 \\\\\n",
       "\t8 & 14 & 66 & r1954518 & Cholón & 100702 \\\\\n",
       "\t9 & 15 & 213 & r1954518 & Cholón & 100702 \\\\\n",
       "\t10 & 20 & 27 & r1954518 & Cholón & 100702 \\\\\n",
       "\\end{tabular}\n"
      ],
      "text/html": [
       "<div class=\"data-frame\"><p>10 rows × 5 columns</p><table class=\"data-frame\"><thead><tr><th></th><th>fid</th><th>population</th><th>full_id</th><th>name</th><th>pe_ubigeo</th></tr><tr><th></th><th title=\"Int64\">Int64</th><th title=\"Int64\">Int64</th><th title=\"Union{Missing, String}\">String?</th><th title=\"Union{Missing, String}\">String?</th><th title=\"Union{Missing, Int64}\">Int64?</th></tr></thead><tbody><tr><th>1</th><td>2</td><td>196</td><td>r1954518</td><td>Cholón</td><td>100702</td></tr><tr><th>2</th><td>3</td><td>344</td><td>r1954518</td><td>Cholón</td><td>100702</td></tr><tr><th>3</th><td>7</td><td>76</td><td>r1954518</td><td>Cholón</td><td>100702</td></tr><tr><th>4</th><td>10</td><td>44</td><td>r1954518</td><td>Cholón</td><td>100702</td></tr><tr><th>5</th><td>11</td><td>120</td><td>r1954518</td><td>Cholón</td><td>100702</td></tr><tr><th>6</th><td>12</td><td>32</td><td>r1954518</td><td>Cholón</td><td>100702</td></tr><tr><th>7</th><td>13</td><td>44</td><td>r1954518</td><td>Cholón</td><td>100702</td></tr><tr><th>8</th><td>14</td><td>66</td><td>r1954518</td><td>Cholón</td><td>100702</td></tr><tr><th>9</th><td>15</td><td>213</td><td>r1954518</td><td>Cholón</td><td>100702</td></tr><tr><th>10</th><td>20</td><td>27</td><td>r1954518</td><td>Cholón</td><td>100702</td></tr></tbody></table></div>"
      ]
     },
     "metadata": {},
     "execution_count": 25
    }
   ],
   "metadata": {}
  },
  {
   "cell_type": "code",
   "execution_count": 52,
   "source": [
    "# TODO: Importación y creación de un DataFrame desde un archivo GeoJSON\r\n",
    "\r\n",
    "dat_geo = ArchGDAL.read(\"data/select_pop_huanuco.geojson\")\r\n",
    "layer_geo = ArchGDAL.getlayer(dat_geo, 0)\r\n",
    "df_pop2 = DataFrames.DataFrame(layer_geo)\r\n",
    "\r\n",
    "first(df_pop2, 10)\r\n"
   ],
   "outputs": [
    {
     "output_type": "execute_result",
     "data": {
      "text/plain": [
       "\u001b[1m10×6 DataFrame\u001b[0m\n",
       "\u001b[1m Row \u001b[0m│\u001b[1m                    \u001b[0m\u001b[1m fid     \u001b[0m\u001b[1m population \u001b[0m\u001b[1m full_id  \u001b[0m\u001b[1m name   \u001b[0m\u001b[1m pe_ubigeo \u001b[0m\n",
       "\u001b[1m     \u001b[0m│\u001b[90m IGeometr…          \u001b[0m\u001b[90m Float64 \u001b[0m\u001b[90m Float64    \u001b[0m\u001b[90m String   \u001b[0m\u001b[90m String \u001b[0m\u001b[90m String    \u001b[0m\n",
       "─────┼──────────────────────────────────────────────────────────────────────\n",
       "   1 │ Geometry: wkbPoint      2.0       196.0  r1954518  Cholón  100702\n",
       "   2 │ Geometry: wkbPoint      3.0       344.0  r1954518  Cholón  100702\n",
       "   3 │ Geometry: wkbPoint      7.0        76.0  r1954518  Cholón  100702\n",
       "   4 │ Geometry: wkbPoint     10.0        44.0  r1954518  Cholón  100702\n",
       "   5 │ Geometry: wkbPoint     11.0       120.0  r1954518  Cholón  100702\n",
       "   6 │ Geometry: wkbPoint     12.0        32.0  r1954518  Cholón  100702\n",
       "   7 │ Geometry: wkbPoint     13.0        44.0  r1954518  Cholón  100702\n",
       "   8 │ Geometry: wkbPoint     14.0        66.0  r1954518  Cholón  100702\n",
       "   9 │ Geometry: wkbPoint     15.0       213.0  r1954518  Cholón  100702\n",
       "  10 │ Geometry: wkbPoint     20.0        27.0  r1954518  Cholón  100702"
      ],
      "text/latex": [
       "\\begin{tabular}{r|cccccc}\n",
       "\t&  & fid & population & full\\_id & name & pe\\_ubigeo\\\\\n",
       "\t\\hline\n",
       "\t& IGeomet… & Float64 & Float64 & String & String & String\\\\\n",
       "\t\\hline\n",
       "\t1 & Geometry: wkbPoint & 2.0 & 196.0 & r1954518 & Cholón & 100702 \\\\\n",
       "\t2 & Geometry: wkbPoint & 3.0 & 344.0 & r1954518 & Cholón & 100702 \\\\\n",
       "\t3 & Geometry: wkbPoint & 7.0 & 76.0 & r1954518 & Cholón & 100702 \\\\\n",
       "\t4 & Geometry: wkbPoint & 10.0 & 44.0 & r1954518 & Cholón & 100702 \\\\\n",
       "\t5 & Geometry: wkbPoint & 11.0 & 120.0 & r1954518 & Cholón & 100702 \\\\\n",
       "\t6 & Geometry: wkbPoint & 12.0 & 32.0 & r1954518 & Cholón & 100702 \\\\\n",
       "\t7 & Geometry: wkbPoint & 13.0 & 44.0 & r1954518 & Cholón & 100702 \\\\\n",
       "\t8 & Geometry: wkbPoint & 14.0 & 66.0 & r1954518 & Cholón & 100702 \\\\\n",
       "\t9 & Geometry: wkbPoint & 15.0 & 213.0 & r1954518 & Cholón & 100702 \\\\\n",
       "\t10 & Geometry: wkbPoint & 20.0 & 27.0 & r1954518 & Cholón & 100702 \\\\\n",
       "\\end{tabular}\n"
      ],
      "text/html": [
       "<div class=\"data-frame\"><p>10 rows × 6 columns</p><table class=\"data-frame\"><thead><tr><th></th><th></th><th>fid</th><th>population</th><th>full_id</th><th>name</th><th>pe_ubigeo</th></tr><tr><th></th><th title=\"ArchGDAL.IGeometry{ArchGDAL.wkbPoint}\">IGeomet…</th><th title=\"Float64\">Float64</th><th title=\"Float64\">Float64</th><th title=\"String\">String</th><th title=\"String\">String</th><th title=\"String\">String</th></tr></thead><tbody><tr><th>1</th><td>Geometry: wkbPoint</td><td>2.0</td><td>196.0</td><td>r1954518</td><td>Cholón</td><td>100702</td></tr><tr><th>2</th><td>Geometry: wkbPoint</td><td>3.0</td><td>344.0</td><td>r1954518</td><td>Cholón</td><td>100702</td></tr><tr><th>3</th><td>Geometry: wkbPoint</td><td>7.0</td><td>76.0</td><td>r1954518</td><td>Cholón</td><td>100702</td></tr><tr><th>4</th><td>Geometry: wkbPoint</td><td>10.0</td><td>44.0</td><td>r1954518</td><td>Cholón</td><td>100702</td></tr><tr><th>5</th><td>Geometry: wkbPoint</td><td>11.0</td><td>120.0</td><td>r1954518</td><td>Cholón</td><td>100702</td></tr><tr><th>6</th><td>Geometry: wkbPoint</td><td>12.0</td><td>32.0</td><td>r1954518</td><td>Cholón</td><td>100702</td></tr><tr><th>7</th><td>Geometry: wkbPoint</td><td>13.0</td><td>44.0</td><td>r1954518</td><td>Cholón</td><td>100702</td></tr><tr><th>8</th><td>Geometry: wkbPoint</td><td>14.0</td><td>66.0</td><td>r1954518</td><td>Cholón</td><td>100702</td></tr><tr><th>9</th><td>Geometry: wkbPoint</td><td>15.0</td><td>213.0</td><td>r1954518</td><td>Cholón</td><td>100702</td></tr><tr><th>10</th><td>Geometry: wkbPoint</td><td>20.0</td><td>27.0</td><td>r1954518</td><td>Cholón</td><td>100702</td></tr></tbody></table></div>"
      ]
     },
     "metadata": {},
     "execution_count": 52
    }
   ],
   "metadata": {}
  },
  {
   "cell_type": "code",
   "execution_count": 56,
   "source": [
    "typeof(dat_geo)"
   ],
   "outputs": [
    {
     "output_type": "execute_result",
     "data": {
      "text/plain": [
       "ArchGDAL.IDataset"
      ]
     },
     "metadata": {},
     "execution_count": 56
    }
   ],
   "metadata": {}
  },
  {
   "cell_type": "code",
   "execution_count": 60,
   "source": [
    "typeof(layer_geo)"
   ],
   "outputs": [
    {
     "output_type": "execute_result",
     "data": {
      "text/plain": [
       "ArchGDAL.IFeatureLayer"
      ]
     },
     "metadata": {},
     "execution_count": 60
    }
   ],
   "metadata": {}
  },
  {
   "cell_type": "code",
   "execution_count": 61,
   "source": [
    "ArchGDAL.nfeature(layer_geo)"
   ],
   "outputs": [
    {
     "output_type": "execute_result",
     "data": {
      "text/plain": [
       "3708"
      ]
     },
     "metadata": {},
     "execution_count": 61
    }
   ],
   "metadata": {}
  },
  {
   "cell_type": "code",
   "execution_count": 26,
   "source": [
    "describe(df_pop1) #? Verificamos si existen datos faltantes"
   ],
   "outputs": [
    {
     "output_type": "execute_result",
     "data": {
      "text/plain": [
       "\u001b[1m5×7 DataFrame\u001b[0m\n",
       "\u001b[1m Row \u001b[0m│\u001b[1m variable   \u001b[0m\u001b[1m mean      \u001b[0m\u001b[1m min      \u001b[0m\u001b[1m median   \u001b[0m\u001b[1m max        \u001b[0m\u001b[1m nmissing \u001b[0m\u001b[1m eltype\u001b[0m ⋯\n",
       "\u001b[1m     \u001b[0m│\u001b[90m Symbol     \u001b[0m\u001b[90m Union…    \u001b[0m\u001b[90m Any      \u001b[0m\u001b[90m Union…   \u001b[0m\u001b[90m Any        \u001b[0m\u001b[90m Int64    \u001b[0m\u001b[90m Type  \u001b[0m ⋯\n",
       "─────┼──────────────────────────────────────────────────────────────────────────\n",
       "   1 │ fid         3485.84    2         3192.5    8219               0  Int64  ⋯\n",
       "   2 │ population  213.863    25        82.0      9209               0  Int64\n",
       "   3 │ full_id    \u001b[90m           \u001b[0m r1954505 \u001b[90m          \u001b[0m r7899608           2  Union{\n",
       "   4 │ name       \u001b[90m           \u001b[0m Amarilis \u001b[90m          \u001b[0m Yuyapichis         2  Union{\n",
       "   5 │ pe_ubigeo   1.00515e5  100101    100507.0  101108             2  Union{ ⋯\n",
       "\u001b[36m                                                                1 column omitted\u001b[0m"
      ],
      "text/latex": [
       "\\begin{tabular}{r|ccccccc}\n",
       "\t& variable & mean & min & median & max & nmissing & eltype\\\\\n",
       "\t\\hline\n",
       "\t& Symbol & Union… & Any & Union… & Any & Int64 & Type\\\\\n",
       "\t\\hline\n",
       "\t1 & fid & 3485.84 & 2 & 3192.5 & 8219 & 0 & Int64 \\\\\n",
       "\t2 & population & 213.863 & 25 & 82.0 & 9209 & 0 & Int64 \\\\\n",
       "\t3 & full\\_id &  & r1954505 &  & r7899608 & 2 & Union\\{Missing, String\\} \\\\\n",
       "\t4 & name &  & Amarilis &  & Yuyapichis & 2 & Union\\{Missing, String\\} \\\\\n",
       "\t5 & pe\\_ubigeo & 1.00515e5 & 100101 & 100507.0 & 101108 & 2 & Union\\{Missing, Int64\\} \\\\\n",
       "\\end{tabular}\n"
      ],
      "text/html": [
       "<div class=\"data-frame\"><p>5 rows × 7 columns</p><table class=\"data-frame\"><thead><tr><th></th><th>variable</th><th>mean</th><th>min</th><th>median</th><th>max</th><th>nmissing</th><th>eltype</th></tr><tr><th></th><th title=\"Symbol\">Symbol</th><th title=\"Union{Nothing, Float64}\">Union…</th><th title=\"Any\">Any</th><th title=\"Union{Nothing, Float64}\">Union…</th><th title=\"Any\">Any</th><th title=\"Int64\">Int64</th><th title=\"Type\">Type</th></tr></thead><tbody><tr><th>1</th><td>fid</td><td>3485.84</td><td>2</td><td>3192.5</td><td>8219</td><td>0</td><td>Int64</td></tr><tr><th>2</th><td>population</td><td>213.863</td><td>25</td><td>82.0</td><td>9209</td><td>0</td><td>Int64</td></tr><tr><th>3</th><td>full_id</td><td></td><td>r1954505</td><td></td><td>r7899608</td><td>2</td><td>Union{Missing, String}</td></tr><tr><th>4</th><td>name</td><td></td><td>Amarilis</td><td></td><td>Yuyapichis</td><td>2</td><td>Union{Missing, String}</td></tr><tr><th>5</th><td>pe_ubigeo</td><td>1.00515e5</td><td>100101</td><td>100507.0</td><td>101108</td><td>2</td><td>Union{Missing, Int64}</td></tr></tbody></table></div>"
      ]
     },
     "metadata": {},
     "execution_count": 26
    }
   ],
   "metadata": {}
  },
  {
   "cell_type": "code",
   "execution_count": 27,
   "source": [
    "# TODO: Convertir un DataFrame a formato HTML\r\n",
    "# ! Empleamos las bondades del paquete PrettyTables (https://ronisbr.github.io/PrettyTables.jl/stable/)\r\n",
    "\r\n",
    "function savehtml(filename, data)\r\n",
    "    open(\"$filename.html\", \"w\") do f\r\n",
    "        pretty_table(f, data, backend=:html, tf=tf_html_dark)\r\n",
    "    end\r\n",
    "end\r\n",
    "\r\n",
    "savehtml(\"html/pop_huanuco_points\", df_pop1)"
   ],
   "outputs": [],
   "metadata": {}
  },
  {
   "cell_type": "code",
   "execution_count": 28,
   "source": [
    "# TODO: Ordenar los datos por nombre\r\n",
    "\r\n",
    "df_pop1 = sort!(df_pop1, :name);\r\n",
    "savehtml(\"html/pop_huanuco_points_ord\", df_pop1)\r\n"
   ],
   "outputs": [],
   "metadata": {}
  },
  {
   "cell_type": "code",
   "execution_count": 29,
   "source": [
    "# TODO: Eliminar datos faltantes\r\n",
    "\r\n",
    "df_pop1 = dropmissing!(df_pop1);\r\n",
    "savehtml(\"html/pop_huanuco_points_ajust\", df_pop1)\r\n",
    "describe(df_pop1)"
   ],
   "outputs": [
    {
     "output_type": "execute_result",
     "data": {
      "text/plain": [
       "\u001b[1m5×7 DataFrame\u001b[0m\n",
       "\u001b[1m Row \u001b[0m│\u001b[1m variable   \u001b[0m\u001b[1m mean      \u001b[0m\u001b[1m min      \u001b[0m\u001b[1m median   \u001b[0m\u001b[1m max        \u001b[0m\u001b[1m nmissing \u001b[0m\u001b[1m eltype\u001b[0m ⋯\n",
       "\u001b[1m     \u001b[0m│\u001b[90m Symbol     \u001b[0m\u001b[90m Union…    \u001b[0m\u001b[90m Any      \u001b[0m\u001b[90m Union…   \u001b[0m\u001b[90m Any        \u001b[0m\u001b[90m Int64    \u001b[0m\u001b[90m DataTy\u001b[0m ⋯\n",
       "─────┼──────────────────────────────────────────────────────────────────────────\n",
       "   1 │ fid         3484.53    2         3191.5    8219               0  Int64  ⋯\n",
       "   2 │ population  213.938    25        82.0      9209               0  Int64\n",
       "   3 │ full_id    \u001b[90m           \u001b[0m r1954505 \u001b[90m          \u001b[0m r7899608           0  String\n",
       "   4 │ name       \u001b[90m           \u001b[0m Amarilis \u001b[90m          \u001b[0m Yuyapichis         0  String\n",
       "   5 │ pe_ubigeo   1.00515e5  100101    100507.0  101108             0  Int64  ⋯\n",
       "\u001b[36m                                                                1 column omitted\u001b[0m"
      ],
      "text/latex": [
       "\\begin{tabular}{r|ccccccc}\n",
       "\t& variable & mean & min & median & max & nmissing & eltype\\\\\n",
       "\t\\hline\n",
       "\t& Symbol & Union… & Any & Union… & Any & Int64 & DataType\\\\\n",
       "\t\\hline\n",
       "\t1 & fid & 3484.53 & 2 & 3191.5 & 8219 & 0 & Int64 \\\\\n",
       "\t2 & population & 213.938 & 25 & 82.0 & 9209 & 0 & Int64 \\\\\n",
       "\t3 & full\\_id &  & r1954505 &  & r7899608 & 0 & String \\\\\n",
       "\t4 & name &  & Amarilis &  & Yuyapichis & 0 & String \\\\\n",
       "\t5 & pe\\_ubigeo & 1.00515e5 & 100101 & 100507.0 & 101108 & 0 & Int64 \\\\\n",
       "\\end{tabular}\n"
      ],
      "text/html": [
       "<div class=\"data-frame\"><p>5 rows × 7 columns</p><table class=\"data-frame\"><thead><tr><th></th><th>variable</th><th>mean</th><th>min</th><th>median</th><th>max</th><th>nmissing</th><th>eltype</th></tr><tr><th></th><th title=\"Symbol\">Symbol</th><th title=\"Union{Nothing, Float64}\">Union…</th><th title=\"Any\">Any</th><th title=\"Union{Nothing, Float64}\">Union…</th><th title=\"Any\">Any</th><th title=\"Int64\">Int64</th><th title=\"DataType\">DataType</th></tr></thead><tbody><tr><th>1</th><td>fid</td><td>3484.53</td><td>2</td><td>3191.5</td><td>8219</td><td>0</td><td>Int64</td></tr><tr><th>2</th><td>population</td><td>213.938</td><td>25</td><td>82.0</td><td>9209</td><td>0</td><td>Int64</td></tr><tr><th>3</th><td>full_id</td><td></td><td>r1954505</td><td></td><td>r7899608</td><td>0</td><td>String</td></tr><tr><th>4</th><td>name</td><td></td><td>Amarilis</td><td></td><td>Yuyapichis</td><td>0</td><td>String</td></tr><tr><th>5</th><td>pe_ubigeo</td><td>1.00515e5</td><td>100101</td><td>100507.0</td><td>101108</td><td>0</td><td>Int64</td></tr></tbody></table></div>"
      ]
     },
     "metadata": {},
     "execution_count": 29
    }
   ],
   "metadata": {}
  },
  {
   "cell_type": "code",
   "execution_count": 38,
   "source": [
    "# TODO: Agrupar y combinar columnas de datos\r\n",
    "#* Agrupamos los valores por los nombres de los distritos empleando \"groupby\"\r\n",
    "df_gpop = groupby(df_pop1, :name);\r\n",
    "#* Combinamos los resultados incorporando nuevos campos empleando \"combine\"\r\n",
    "df_gpop_c = combine(df_gpop,\r\n",
    "    :population => sum,\r\n",
    "    :pe_ubigeo => unique\r\n",
    "    );\r\n",
    "savehtml(\"html/pop_huanuco_agcomb\", df_gpop_c)\r\n"
   ],
   "outputs": [],
   "metadata": {}
  },
  {
   "cell_type": "code",
   "execution_count": 40,
   "source": [
    "# TODO: Crear una columna índice\r\n",
    "\r\n",
    "df_gpop_c.id = 1:nrow(df_gpop_c);  #* creación de una columna \"id\"\r\n",
    "df_gpop_c = select!(df_gpop_c, :id, :); #* modificar de manera permanente nuestro dataframe\r\n",
    "savehtml(\"html/pob_huanuco_index\", df_gpop_c)"
   ],
   "outputs": [],
   "metadata": {}
  },
  {
   "cell_type": "code",
   "execution_count": 47,
   "source": [
    "# TODO: Modificar los encabezados\r\n",
    "\r\n",
    "rename!(df_gpop_c, [:id, :nombre, :población, :ubigeo])\r\n",
    "savehtml(\"html/pob_huanuco_new\", df_gpop_c)\r\n"
   ],
   "outputs": [],
   "metadata": {}
  },
  {
   "cell_type": "code",
   "execution_count": 48,
   "source": [
    "# TODO: Convertir Int64 a String\r\n",
    "#* La referencia a columnas en el nuevo objeto se obtiene usando \"!\" para la posición de la fila (para enfatizar que los datos referenciados podrían cambiarse en el nuevo objeto).\r\n",
    "\r\n",
    "df_gpop_c[!, :ubigeo] = string.(df_gpop_c[:, :ubigeo]) #! Ojo: df[!, :col] es lo mismo que df.col \r\n",
    "savehtml(\"html/pob_huanuco_convert\", df_gpop_c)\r\n",
    "\r\n",
    "# Otra opción es: df[:, :col] .= value"
   ],
   "outputs": [],
   "metadata": {}
  },
  {
   "cell_type": "code",
   "execution_count": 50,
   "source": [
    "# TODO: Guardar nuestros resultados como CSV\r\n",
    "\r\n",
    "CSV.write(\"data/pop_dist_huanuco.csv\", df_gpop_c)"
   ],
   "outputs": [
    {
     "output_type": "execute_result",
     "data": {
      "text/plain": [
       "\"data/pop_dist_huanuco.csv\""
      ]
     },
     "metadata": {},
     "execution_count": 50
    }
   ],
   "metadata": {}
  },
  {
   "cell_type": "code",
   "execution_count": 64,
   "source": [
    "#* Generar nuevos DataFrames empleando filtros\r\n",
    "\r\n",
    "df_gpop_cmax = @subset(df_gpop_c, :población .> 5000) #! El uso de macros es gracias al paquete DataFramesMeta\r\n",
    "savehtml(\"html/pob_huanuco_max\", df_gpop_cmax)"
   ],
   "outputs": [],
   "metadata": {}
  },
  {
   "cell_type": "code",
   "execution_count": 67,
   "source": [
    "df_gpop_ord = @linq df_gpop_c |>\r\n",
    "                        where(:población .> 10000) |>\r\n",
    "                        orderby(:ubigeo)\r\n",
    "savehtml(\"html/pob_huanuco_ord\", df_gpop_ord)"
   ],
   "outputs": [],
   "metadata": {}
  }
 ],
 "metadata": {
  "orig_nbformat": 4,
  "language_info": {
   "file_extension": ".jl",
   "name": "julia",
   "mimetype": "application/julia",
   "version": "1.6.2"
  },
  "kernelspec": {
   "name": "julia-1.6",
   "display_name": "Julia 1.6.2",
   "language": "julia"
  }
 },
 "nbformat": 4,
 "nbformat_minor": 2
}