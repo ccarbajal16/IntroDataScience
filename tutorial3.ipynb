{
 "cells": [
  {
   "cell_type": "code",
   "execution_count": 1,
   "source": [
    "ENV[\"COLUMNS\"] = 1000"
   ],
   "outputs": [
    {
     "output_type": "execute_result",
     "data": {
      "text/plain": [
       "1000"
      ]
     },
     "metadata": {},
     "execution_count": 1
    }
   ],
   "metadata": {}
  },
  {
   "cell_type": "code",
   "execution_count": null,
   "source": [
    "#* Uso de Queryverse\r\n",
    "\r\n",
    "using Queryverse\r\n",
    "\r\n",
    "load(\"data/table_ccpp_inei.csv\") |>\r\n",
    "    @filter(_.POB >= 2000 && _.Altitud >= 1000) |>\r\n",
    "    @groupby(_.DISTRITO) |>\r\n",
    "    @map({Distritos = key(_),\r\n",
    "    SumPob = sum(_.POB),\r\n",
    "    MinViv = minimum(_.VIV),\r\n",
    "    MaxAlt = maximum(_.Altitud),\r\n",
    "    }) |>\r\n",
    "    @orderby_descending(_.SumPob) |> \r\n",
    "    @tee(save(\"data/table_ccpp_group.csv\")) |>\r\n",
    "    @tee(save(\"data/table_ccpp_group.xlsx\")) |>\r\n",
    "    @vlplot(:bar, x= :Distritos, \r\n",
    "        y= :SumPob, \r\n",
    "        color=\"Distritos:n\") |>\r\n",
    "    @tee(save(\"img/plot1.png\"))"
   ],
   "outputs": [],
   "metadata": {}
  }
 ],
 "metadata": {
  "orig_nbformat": 4,
  "language_info": {
   "file_extension": ".jl",
   "name": "julia",
   "mimetype": "application/julia",
   "version": "1.6.2"
  },
  "kernelspec": {
   "name": "julia-1.6",
   "display_name": "Julia 1.6.2",
   "language": "julia"
  }
 },
 "nbformat": 4,
 "nbformat_minor": 2
}