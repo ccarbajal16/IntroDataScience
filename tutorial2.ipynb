{
 "cells": [
  {
   "cell_type": "code",
   "execution_count": 1,
   "source": [
    "ENV[\"COLUMNS\"] = 1000"
   ],
   "outputs": [
    {
     "output_type": "execute_result",
     "data": {
      "text/plain": [
       "1000"
      ]
     },
     "metadata": {},
     "execution_count": 1
    }
   ],
   "metadata": {}
  },
  {
   "cell_type": "code",
   "execution_count": 3,
   "source": [
    "###################* Uso de Procesos en cadena #############################\r\n",
    "# TODO: Empleamos primero DataFrames + DataFramesMeta\r\n",
    "\r\n",
    "using DataFrames, CSV, DataFramesMeta\r\n",
    "\r\n",
    "df_ccpphuanuco = CSV.File(\"data/table_ccpp_inei.csv\") |> DataFrame\r\n",
    "\r\n",
    "first(df_ccpphuanuco, 10)"
   ],
   "outputs": [
    {
     "output_type": "execute_result",
     "data": {
      "text/plain": [
       "\u001b[1m10×14 DataFrame\u001b[0m\n",
       "\u001b[1m Row \u001b[0m│\u001b[1m fid   \u001b[0m\u001b[1m UBIGEO \u001b[0m\u001b[1m CODCP      \u001b[0m\u001b[1m DEPARTAMEN \u001b[0m\u001b[1m PROVINCIA \u001b[0m\u001b[1m DISTRITO \u001b[0m\u001b[1m CEN_POB                    \u001b[0m\u001b[1m CAPITAL       \u001b[0m\u001b[1m POB   \u001b[0m\u001b[1m VIV   \u001b[0m\u001b[1m Y        \u001b[0m\u001b[1m X        \u001b[0m\u001b[1m FUENTE_FIN \u001b[0m\u001b[1m Altitud \u001b[0m\n",
       "\u001b[1m     \u001b[0m│\u001b[90m Int64 \u001b[0m\u001b[90m Int64  \u001b[0m\u001b[90m Int64      \u001b[0m\u001b[90m String     \u001b[0m\u001b[90m String    \u001b[0m\u001b[90m String   \u001b[0m\u001b[90m String                     \u001b[0m\u001b[90m String?       \u001b[0m\u001b[90m Int64 \u001b[0m\u001b[90m Int64 \u001b[0m\u001b[90m Float64  \u001b[0m\u001b[90m Float64  \u001b[0m\u001b[90m String     \u001b[0m\u001b[90m Int64   \u001b[0m\n",
       "─────┼──────────────────────────────────────────────────────────────────────────────────────────────────────────────────────────────────────────────────────────────\n",
       "   1 │ 49060  100101  1001010001  HUANUCO     HUANUCO    HUANUCO   HUANUCO                     Departamental  84612  24226  -9.93008  -76.2399  CENSO          1900\n",
       "   2 │ 49061  100101  1001010002  HUANUCO     HUANUCO    HUANUCO   TRES DE MAYO DE YANACOCHA  \u001b[90m missing       \u001b[0m    94     29  -9.83353  -76.3825  CENSO          3507\n",
       "   3 │ 49062  100101  1001010003  HUANUCO     HUANUCO    HUANUCO   YURACYACU                  \u001b[90m missing       \u001b[0m    39     16  -9.90446  -76.3249  CENSO          2283\n",
       "   4 │ 49063  100101  1001010004  HUANUCO     HUANUCO    HUANUCO   SAN ISIDRO DE CAPILLAPAMPA \u001b[90m missing       \u001b[0m    43     19  -9.8354   -76.3665  CENSO          2972\n",
       "   5 │ 49064  100101  1001010005  HUANUCO     HUANUCO    HUANUCO   SANTO DOMINGO DE NAUYAN    \u001b[90m missing       \u001b[0m    66     39  -9.90185  -76.2785  CENSO          2826\n",
       "   6 │ 49065  100101  1001010006  HUANUCO     HUANUCO    HUANUCO   HUINISH                    \u001b[90m missing       \u001b[0m    23     11  -9.88892  -76.2871  CENSO          3315\n",
       "   7 │ 49067  100101  1001010008  HUANUCO     HUANUCO    HUANUCO   QUEROCOCHA                 \u001b[90m missing       \u001b[0m    52     17  -9.88855  -76.2711  CENSO          3113\n",
       "   8 │ 49069  100101  1001010010  HUANUCO     HUANUCO    HUANUCO   RIURA PAMPA                \u001b[90m missing       \u001b[0m    21     13  -9.89919  -76.246   CENSO          2358\n",
       "   9 │ 49071  100101  1001010012  HUANUCO     HUANUCO    HUANUCO   COLPA BAJA                 \u001b[90m missing       \u001b[0m   702    147  -9.8809   -76.2168  CENSO          1877\n",
       "  10 │ 49072  100101  1001010013  HUANUCO     HUANUCO    HUANUCO   HUACHOG                    \u001b[90m missing       \u001b[0m   374    128  -9.87695  -76.2037  CENSO          1857"
      ],
      "text/latex": [
       "\\begin{tabular}{r|cccccccccccccc}\n",
       "\t& fid & UBIGEO & CODCP & DEPARTAMEN & PROVINCIA & DISTRITO & CEN\\_POB & CAPITAL & POB & VIV & Y & X & FUENTE\\_FIN & Altitud\\\\\n",
       "\t\\hline\n",
       "\t& Int64 & Int64 & Int64 & String & String & String & String & String? & Int64 & Int64 & Float64 & Float64 & String & Int64\\\\\n",
       "\t\\hline\n",
       "\t1 & 49060 & 100101 & 1001010001 & HUANUCO & HUANUCO & HUANUCO & HUANUCO & Departamental & 84612 & 24226 & -9.93008 & -76.2399 & CENSO & 1900 \\\\\n",
       "\t2 & 49061 & 100101 & 1001010002 & HUANUCO & HUANUCO & HUANUCO & TRES DE MAYO DE YANACOCHA & \\emph{missing} & 94 & 29 & -9.83353 & -76.3825 & CENSO & 3507 \\\\\n",
       "\t3 & 49062 & 100101 & 1001010003 & HUANUCO & HUANUCO & HUANUCO & YURACYACU & \\emph{missing} & 39 & 16 & -9.90446 & -76.3249 & CENSO & 2283 \\\\\n",
       "\t4 & 49063 & 100101 & 1001010004 & HUANUCO & HUANUCO & HUANUCO & SAN ISIDRO DE CAPILLAPAMPA & \\emph{missing} & 43 & 19 & -9.8354 & -76.3665 & CENSO & 2972 \\\\\n",
       "\t5 & 49064 & 100101 & 1001010005 & HUANUCO & HUANUCO & HUANUCO & SANTO DOMINGO DE NAUYAN & \\emph{missing} & 66 & 39 & -9.90185 & -76.2785 & CENSO & 2826 \\\\\n",
       "\t6 & 49065 & 100101 & 1001010006 & HUANUCO & HUANUCO & HUANUCO & HUINISH & \\emph{missing} & 23 & 11 & -9.88892 & -76.2871 & CENSO & 3315 \\\\\n",
       "\t7 & 49067 & 100101 & 1001010008 & HUANUCO & HUANUCO & HUANUCO & QUEROCOCHA & \\emph{missing} & 52 & 17 & -9.88855 & -76.2711 & CENSO & 3113 \\\\\n",
       "\t8 & 49069 & 100101 & 1001010010 & HUANUCO & HUANUCO & HUANUCO & RIURA PAMPA & \\emph{missing} & 21 & 13 & -9.89919 & -76.246 & CENSO & 2358 \\\\\n",
       "\t9 & 49071 & 100101 & 1001010012 & HUANUCO & HUANUCO & HUANUCO & COLPA BAJA & \\emph{missing} & 702 & 147 & -9.8809 & -76.2168 & CENSO & 1877 \\\\\n",
       "\t10 & 49072 & 100101 & 1001010013 & HUANUCO & HUANUCO & HUANUCO & HUACHOG & \\emph{missing} & 374 & 128 & -9.87695 & -76.2037 & CENSO & 1857 \\\\\n",
       "\\end{tabular}\n"
      ],
      "text/html": [
       "<div class=\"data-frame\"><p>10 rows × 14 columns</p><table class=\"data-frame\"><thead><tr><th></th><th>fid</th><th>UBIGEO</th><th>CODCP</th><th>DEPARTAMEN</th><th>PROVINCIA</th><th>DISTRITO</th><th>CEN_POB</th><th>CAPITAL</th><th>POB</th><th>VIV</th><th>Y</th><th>X</th><th>FUENTE_FIN</th><th>Altitud</th></tr><tr><th></th><th title=\"Int64\">Int64</th><th title=\"Int64\">Int64</th><th title=\"Int64\">Int64</th><th title=\"String\">String</th><th title=\"String\">String</th><th title=\"String\">String</th><th title=\"String\">String</th><th title=\"Union{Missing, String}\">String?</th><th title=\"Int64\">Int64</th><th title=\"Int64\">Int64</th><th title=\"Float64\">Float64</th><th title=\"Float64\">Float64</th><th title=\"String\">String</th><th title=\"Int64\">Int64</th></tr></thead><tbody><tr><th>1</th><td>49060</td><td>100101</td><td>1001010001</td><td>HUANUCO</td><td>HUANUCO</td><td>HUANUCO</td><td>HUANUCO</td><td>Departamental</td><td>84612</td><td>24226</td><td>-9.93008</td><td>-76.2399</td><td>CENSO</td><td>1900</td></tr><tr><th>2</th><td>49061</td><td>100101</td><td>1001010002</td><td>HUANUCO</td><td>HUANUCO</td><td>HUANUCO</td><td>TRES DE MAYO DE YANACOCHA</td><td><em>missing</em></td><td>94</td><td>29</td><td>-9.83353</td><td>-76.3825</td><td>CENSO</td><td>3507</td></tr><tr><th>3</th><td>49062</td><td>100101</td><td>1001010003</td><td>HUANUCO</td><td>HUANUCO</td><td>HUANUCO</td><td>YURACYACU</td><td><em>missing</em></td><td>39</td><td>16</td><td>-9.90446</td><td>-76.3249</td><td>CENSO</td><td>2283</td></tr><tr><th>4</th><td>49063</td><td>100101</td><td>1001010004</td><td>HUANUCO</td><td>HUANUCO</td><td>HUANUCO</td><td>SAN ISIDRO DE CAPILLAPAMPA</td><td><em>missing</em></td><td>43</td><td>19</td><td>-9.8354</td><td>-76.3665</td><td>CENSO</td><td>2972</td></tr><tr><th>5</th><td>49064</td><td>100101</td><td>1001010005</td><td>HUANUCO</td><td>HUANUCO</td><td>HUANUCO</td><td>SANTO DOMINGO DE NAUYAN</td><td><em>missing</em></td><td>66</td><td>39</td><td>-9.90185</td><td>-76.2785</td><td>CENSO</td><td>2826</td></tr><tr><th>6</th><td>49065</td><td>100101</td><td>1001010006</td><td>HUANUCO</td><td>HUANUCO</td><td>HUANUCO</td><td>HUINISH</td><td><em>missing</em></td><td>23</td><td>11</td><td>-9.88892</td><td>-76.2871</td><td>CENSO</td><td>3315</td></tr><tr><th>7</th><td>49067</td><td>100101</td><td>1001010008</td><td>HUANUCO</td><td>HUANUCO</td><td>HUANUCO</td><td>QUEROCOCHA</td><td><em>missing</em></td><td>52</td><td>17</td><td>-9.88855</td><td>-76.2711</td><td>CENSO</td><td>3113</td></tr><tr><th>8</th><td>49069</td><td>100101</td><td>1001010010</td><td>HUANUCO</td><td>HUANUCO</td><td>HUANUCO</td><td>RIURA PAMPA</td><td><em>missing</em></td><td>21</td><td>13</td><td>-9.89919</td><td>-76.246</td><td>CENSO</td><td>2358</td></tr><tr><th>9</th><td>49071</td><td>100101</td><td>1001010012</td><td>HUANUCO</td><td>HUANUCO</td><td>HUANUCO</td><td>COLPA BAJA</td><td><em>missing</em></td><td>702</td><td>147</td><td>-9.8809</td><td>-76.2168</td><td>CENSO</td><td>1877</td></tr><tr><th>10</th><td>49072</td><td>100101</td><td>1001010013</td><td>HUANUCO</td><td>HUANUCO</td><td>HUANUCO</td><td>HUACHOG</td><td><em>missing</em></td><td>374</td><td>128</td><td>-9.87695</td><td>-76.2037</td><td>CENSO</td><td>1857</td></tr></tbody></table></div>"
      ]
     },
     "metadata": {},
     "execution_count": 3
    }
   ],
   "metadata": {}
  },
  {
   "cell_type": "code",
   "execution_count": 36,
   "source": [
    "#* El Paquete \"DataFramesMeta\" nos proporciona el macro @chain desde Chain.jl (https://github.com/jkrumbiegel/Chain.jl) para unir más de un macro.\r\n",
    "\r\n",
    "df_ccpphuanuco_group = @chain df_ccpphuanuco begin\r\n",
    "    groupby(_, :DISTRITO)\r\n",
    "    @combine(_, :Poblacion = sum(:POB), :Viviendas =sum(:VIV), :Ubigeo = unique(:UBIGEO), :MaxAlt = maximum(:Altitud))\r\n",
    "    sort(:DISTRITO) #* El macro @orderby no funciona para datis agrupados solo para Dataframes\r\n",
    "    @subset(_, :Poblacion .>= 5000, :Viviendas .> 2000, :MaxAlt .>=3000)\r\n",
    "    @transform(_,\r\n",
    "        Porc_pop = :Poblacion ./ sum(:Poblacion) *100,\r\n",
    "        Porc_viv = :Viviendas ./ sum(:Viviendas) *100)\r\n",
    "    insertcols!(_, 1, :Id => 1:nrow(_))\r\n",
    "end"
   ],
   "outputs": [
    {
     "output_type": "error",
     "ename": "LoadError",
     "evalue": "syntax: missing comma or ) in argument list",
     "traceback": [
      "syntax: missing comma or ) in argument list",
      "",
      "Stacktrace:",
      " [1] top-level scope",
      "   @ In[36]:6",
      " [2] eval",
      "   @ .\\boot.jl:360 [inlined]",
      " [3] include_string(mapexpr::typeof(REPL.softscope), mod::Module, code::String, filename::String)",
      "   @ Base .\\loading.jl:1116"
     ]
    }
   ],
   "metadata": {}
  }
 ],
 "metadata": {
  "orig_nbformat": 4,
  "language_info": {
   "file_extension": ".jl",
   "name": "julia",
   "mimetype": "application/julia",
   "version": "1.6.2"
  },
  "kernelspec": {
   "name": "julia-1.6",
   "display_name": "Julia 1.6.2",
   "language": "julia"
  }
 },
 "nbformat": 4,
 "nbformat_minor": 2
}